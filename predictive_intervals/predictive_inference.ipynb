{
 "cells": [
  {
   "cell_type": "markdown",
   "metadata": {},
   "source": [
    "Comparing several methods for creating out of sample predictive intervals\n",
    "\n",
    "Methods:\n",
    "- Quantile of residuals\n",
    "- Quantile regression\n",
    "- Jacknife+\n",
    "- Bayesian regression\n"
   ]
  },
  {
   "cell_type": "code",
   "execution_count": 1,
   "metadata": {},
   "outputs": [],
   "source": [
    "%load_ext autoreload\n",
    "%autoreload 2"
   ]
  },
  {
   "cell_type": "markdown",
   "metadata": {},
   "source": [
    "### Import python modules"
   ]
  },
  {
   "cell_type": "code",
   "execution_count": 10,
   "metadata": {},
   "outputs": [],
   "source": [
    "import os\n",
    "import sys\n",
    "import time\n",
    "import numpy as np\n",
    "import pandas as pd\n",
    "import matplotlib.pyplot as plt\n",
    "\n",
    "from copy import deepcopy as dcp\n",
    "\n",
    "sys.path.append(\"..\")"
   ]
  },
  {
   "cell_type": "markdown",
   "metadata": {},
   "source": [
    "### Import predictive interval modules"
   ]
  },
  {
   "cell_type": "code",
   "execution_count": 3,
   "metadata": {},
   "outputs": [],
   "source": [
    "# Import data simulator\n",
    "from predictive_intervals.data_simulator import DataSimulator\n",
    "\n",
    "# Import models\n",
    "from predictive_intervals.models.predictive_intervals_model import PredictiveIntervalModel\n",
    "from predictive_intervals.models.linear_regression import LinearModel\n",
    "from predictive_intervals.models.quantile_regression import QuantileRegression\n",
    "from predictive_intervals.models.jacknife_plus_regression import JacknifePlus\n",
    "from predictive_intervals.models.bayesian_regression import BayesianRegression"
   ]
  },
  {
   "cell_type": "markdown",
   "metadata": {},
   "source": [
    "Define data simulator parameters"
   ]
  },
  {
   "cell_type": "code",
   "execution_count": 4,
   "metadata": {},
   "outputs": [],
   "source": [
    "# Number of data points to sample\n",
    "n_points = 10000\n",
    "pct_train = 0.5\n",
    "\n",
    "# Model parameters\n",
    "sigma = 3.\n",
    "alpha = 1.\n",
    "beta = 2."
   ]
  },
  {
   "cell_type": "markdown",
   "metadata": {},
   "source": [
    "Simulate data"
   ]
  },
  {
   "cell_type": "code",
   "execution_count": 5,
   "metadata": {},
   "outputs": [],
   "source": [
    "data_sim = DataSimulator.generate_lm_data(n_points=n_points,\n",
    "                                          pct_train=pct_train,\n",
    "                                          alpha=alpha,\n",
    "                                          beta=beta,\n",
    "                                          sigma=np.sqrt(sigma))"
   ]
  },
  {
   "cell_type": "code",
   "execution_count": null,
   "metadata": {},
   "outputs": [],
   "source": [
    "\n",
    "lm_pred_ints = lm.get_predictive_intervals(data=data_sim)"
   ]
  },
  {
   "cell_type": "code",
   "execution_count": null,
   "metadata": {},
   "outputs": [],
   "source": [
    "\n",
    "aux = qr.get_predictive_intervals(data=data_sim)"
   ]
  },
  {
   "cell_type": "code",
   "execution_count": null,
   "metadata": {},
   "outputs": [],
   "source": [
    "\n",
    "aux = jknf.get_predictive_intervals(data=data_sim, pct_sample=0.1)"
   ]
  },
  {
   "cell_type": "code",
   "execution_count": null,
   "metadata": {},
   "outputs": [],
   "source": [
    "\n",
    "ints = br.get_predictive_intervals(data_sim)"
   ]
  },
  {
   "cell_type": "markdown",
   "metadata": {},
   "source": [
    "# Run Experiments"
   ]
  },
  {
   "cell_type": "markdown",
   "metadata": {},
   "source": [
    "Run few repeated experiments, time them and collects statistics"
   ]
  },
  {
   "cell_type": "code",
   "execution_count": null,
   "metadata": {},
   "outputs": [],
   "source": [
    "n_experiments = 30 # or as Andrew Gelman would say, in statistics, 30 = infinity"
   ]
  },
  {
   "cell_type": "markdown",
   "metadata": {},
   "source": [
    "Set desired level of the predictive interval and instantiate all models"
   ]
  },
  {
   "cell_type": "code",
   "execution_count": 6,
   "metadata": {},
   "outputs": [],
   "source": [
    "alpha = 0.1"
   ]
  },
  {
   "cell_type": "code",
   "execution_count": 7,
   "metadata": {},
   "outputs": [],
   "source": [
    "linear_regression = LinearModel(alpha=alpha)\n",
    "quantile_regression = QuantileRegression(alpha=alpha)\n",
    "jacknife_plus_regression = JacknifePlus(alpha=alpha)\n",
    "bayesian_regression = BayesianRegression(alpha=alpha)\n",
    "\n",
    "methods = [linear_regression, quantile_regression, jacknife_plus_regression, bayesian_regression]"
   ]
  },
  {
   "cell_type": "code",
   "execution_count": 14,
   "metadata": {},
   "outputs": [],
   "source": [
    "def run_experiment(method: PredictiveIntervalModel, n_experiments: int = 1):\n",
    "    \n",
    "    # Declare lists for storing results\n",
    "    run_times = []\n",
    "    hit_ratios = []\n",
    "    interval_lengths = []\n",
    "    \n",
    "    # Loop over number of experiments, measure time and collect statistics\n",
    "    for i in range(n_experiments):\n",
    "        \n",
    "        # Single run of an experiment\n",
    "        start_time = time.time()\n",
    "        method.get_predictive_intervals(data=data_sim)\n",
    "        end_time = time.time()\n",
    "        \n",
    "        # Append results\n",
    "        run_times.append(end_time - start_time)\n",
    "        hit_ratios.append(method.hit_ratio)\n",
    "        interval_lengths.append(method.avg_length)\n",
    "        \n",
    "    # Put all results into dataframe\n",
    "    results = pd.DataFrame(list(zip(run_times, hit_ratios, interval_lengths)), columns=['time', 'hit_ratio', 'int_length'])\n",
    "    \n",
    "    return results"
   ]
  },
  {
   "cell_type": "code",
   "execution_count": null,
   "metadata": {},
   "outputs": [],
   "source": [
    "for method in methods:\n",
    "    run_experiment(method=method, n_experiments=n_experiments)"
   ]
  },
  {
   "cell_type": "code",
   "execution_count": 15,
   "metadata": {},
   "outputs": [],
   "source": [
    "aux = run_experiment(method=linear_regression, n_experiments=10)"
   ]
  },
  {
   "cell_type": "code",
   "execution_count": 16,
   "metadata": {},
   "outputs": [
    {
     "data": {
      "text/html": [
       "<div>\n",
       "<style scoped>\n",
       "    .dataframe tbody tr th:only-of-type {\n",
       "        vertical-align: middle;\n",
       "    }\n",
       "\n",
       "    .dataframe tbody tr th {\n",
       "        vertical-align: top;\n",
       "    }\n",
       "\n",
       "    .dataframe thead th {\n",
       "        text-align: right;\n",
       "    }\n",
       "</style>\n",
       "<table border=\"1\" class=\"dataframe\">\n",
       "  <thead>\n",
       "    <tr style=\"text-align: right;\">\n",
       "      <th></th>\n",
       "      <th>time</th>\n",
       "      <th>hit_ratio</th>\n",
       "      <th>int_length</th>\n",
       "    </tr>\n",
       "  </thead>\n",
       "  <tbody>\n",
       "    <tr>\n",
       "      <th>0</th>\n",
       "      <td>0.000627</td>\n",
       "      <td>0.9</td>\n",
       "      <td>5.833328</td>\n",
       "    </tr>\n",
       "    <tr>\n",
       "      <th>1</th>\n",
       "      <td>0.000466</td>\n",
       "      <td>0.9</td>\n",
       "      <td>5.833328</td>\n",
       "    </tr>\n",
       "    <tr>\n",
       "      <th>2</th>\n",
       "      <td>0.000425</td>\n",
       "      <td>0.9</td>\n",
       "      <td>5.833328</td>\n",
       "    </tr>\n",
       "    <tr>\n",
       "      <th>3</th>\n",
       "      <td>0.000373</td>\n",
       "      <td>0.9</td>\n",
       "      <td>5.833328</td>\n",
       "    </tr>\n",
       "    <tr>\n",
       "      <th>4</th>\n",
       "      <td>0.000308</td>\n",
       "      <td>0.9</td>\n",
       "      <td>5.833328</td>\n",
       "    </tr>\n",
       "    <tr>\n",
       "      <th>5</th>\n",
       "      <td>0.000256</td>\n",
       "      <td>0.9</td>\n",
       "      <td>5.833328</td>\n",
       "    </tr>\n",
       "    <tr>\n",
       "      <th>6</th>\n",
       "      <td>0.000247</td>\n",
       "      <td>0.9</td>\n",
       "      <td>5.833328</td>\n",
       "    </tr>\n",
       "    <tr>\n",
       "      <th>7</th>\n",
       "      <td>0.000319</td>\n",
       "      <td>0.9</td>\n",
       "      <td>5.833328</td>\n",
       "    </tr>\n",
       "    <tr>\n",
       "      <th>8</th>\n",
       "      <td>0.000332</td>\n",
       "      <td>0.9</td>\n",
       "      <td>5.833328</td>\n",
       "    </tr>\n",
       "    <tr>\n",
       "      <th>9</th>\n",
       "      <td>0.000382</td>\n",
       "      <td>0.9</td>\n",
       "      <td>5.833328</td>\n",
       "    </tr>\n",
       "  </tbody>\n",
       "</table>\n",
       "</div>"
      ],
      "text/plain": [
       "       time  hit_ratio  int_length\n",
       "0  0.000627        0.9    5.833328\n",
       "1  0.000466        0.9    5.833328\n",
       "2  0.000425        0.9    5.833328\n",
       "3  0.000373        0.9    5.833328\n",
       "4  0.000308        0.9    5.833328\n",
       "5  0.000256        0.9    5.833328\n",
       "6  0.000247        0.9    5.833328\n",
       "7  0.000319        0.9    5.833328\n",
       "8  0.000332        0.9    5.833328\n",
       "9  0.000382        0.9    5.833328"
      ]
     },
     "execution_count": 16,
     "metadata": {},
     "output_type": "execute_result"
    }
   ],
   "source": [
    "aux"
   ]
  },
  {
   "cell_type": "code",
   "execution_count": null,
   "metadata": {},
   "outputs": [],
   "source": [
    "    qr_pred_ints = quantile_regression.get_predictive_intervals(data=data_sim)\n",
    "    jr_pred_ints = jacknife_plus_regression.get_predictive_intervals(data=data_sim)\n",
    "    br_pred_ints = bayesian_regression.get_predictive_intervals(data=data_sim)"
   ]
  }
 ],
 "metadata": {
  "kernelspec": {
   "display_name": "Python 3",
   "language": "python",
   "name": "python3"
  },
  "language_info": {
   "codemirror_mode": {
    "name": "ipython",
    "version": 3
   },
   "file_extension": ".py",
   "mimetype": "text/x-python",
   "name": "python",
   "nbconvert_exporter": "python",
   "pygments_lexer": "ipython3",
   "version": "3.7.6"
  }
 },
 "nbformat": 4,
 "nbformat_minor": 4
}
